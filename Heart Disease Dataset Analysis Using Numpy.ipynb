{
 "cells": [
  {
   "cell_type": "code",
   "execution_count": 1,
   "id": "719add98",
   "metadata": {},
   "outputs": [],
   "source": [
    "# Load numpy\n",
    "import numpy as np"
   ]
  },
  {
   "cell_type": "markdown",
   "id": "4df45db4",
   "metadata": {},
   "source": [
    "# Hypothesis:\n",
    "###  The older the male patient is, as well as higher cholesterol levels, can increase the patient's likelyhood of getting or having heart disease. "
   ]
  },
  {
   "cell_type": "code",
   "execution_count": 2,
   "id": "8b13d0bf",
   "metadata": {},
   "outputs": [],
   "source": [
    "# Load the dataset\n",
    "data=np.genfromtxt(\"heart.csv\", delimiter=\",\", skip_header=True)\n",
    "\n",
    "# 0 = male\n",
    "# 1 = female\n",
    "\n",
    "# 0 = no heart disease\n",
    "# 1 = heart disease"
   ]
  },
  {
   "cell_type": "code",
   "execution_count": 3,
   "id": "6c58efe8",
   "metadata": {},
   "outputs": [
    {
     "name": "stdout",
     "output_type": "stream",
     "text": [
      "Age: [63. 37. 41. 56. 57.]\n",
      "Sex: [1. 1. 0. 1. 0.]\n",
      "Cholosteral: [233. 250. 204. 236. 354.]\n",
      "Resting heartrate: [145. 130. 130. 120. 120.]\n",
      "Maximum heart rate achieved: [150. 187. 172. 178. 163.]\n",
      "Target: [1. 1. 1. 1. 1.]\n"
     ]
    }
   ],
   "source": [
    "# Columns of choice\n",
    "age=data[:,0]\n",
    "print(f\"Age: {age[:5]}\")\n",
    "sex=data[:,1]\n",
    "print(f\"Sex: {sex[:5]}\")\n",
    "chol=data[:,4]\n",
    "print(f\"Cholosteral: {chol[:5]}\")\n",
    "trestbps=data[:,3]\n",
    "print(f\"Resting heartrate: {trestbps[:5]}\")\n",
    "thalach=data[:,7]\n",
    "print(f\"Maximum heart rate achieved: {thalach[:5]}\")\n",
    "target=data[:,-1]\n",
    "print(f\"Target: {target[:5]}\")"
   ]
  },
  {
   "cell_type": "markdown",
   "id": "868b49fe",
   "metadata": {},
   "source": [
    "# Basic Descriptive Statistics\n",
    "### Mean, Median, SD, Min, Max"
   ]
  },
  {
   "cell_type": "code",
   "execution_count": 4,
   "id": "e45c90e2",
   "metadata": {},
   "outputs": [
    {
     "name": "stdout",
     "output_type": "stream",
     "text": [
      "---Basic Descriptive Statistics on Age---\n",
      "Mean: 54\n",
      "Median: 55.0\n",
      "Standard Deviation: 9\n",
      "Minimum: 29.0\n",
      "Maximum: 77.0\n"
     ]
    }
   ],
   "source": [
    "#age\n",
    "print(\"---Basic Descriptive Statistics on Age---\")\n",
    "print(f\"Mean: {round(np.mean(age))}\")\n",
    "print(f\"Median: {np.median(age)}\")\n",
    "print(f\"Standard Deviation: {round(np.std(age))}\")\n",
    "print(f\"Minimum: {np.min(age)}\")\n",
    "print(f\"Maximum: {np.max(age)}\")"
   ]
  },
  {
   "cell_type": "code",
   "execution_count": 5,
   "id": "f6aeb56e",
   "metadata": {},
   "outputs": [
    {
     "name": "stdout",
     "output_type": "stream",
     "text": [
      "---Basic Descriptive Statistics on Sex---\n",
      "Mean: 1\n",
      "Median: 1.0\n",
      "Standard Deviation: 0\n",
      "Minimum: 0.0\n",
      "Maximum: 1.0\n"
     ]
    }
   ],
   "source": [
    "#sex\n",
    "print(\"---Basic Descriptive Statistics on Sex---\")\n",
    "print(f\"Mean: {round(np.mean(sex))}\")\n",
    "print(f\"Median: {np.median(sex)}\")\n",
    "print(f\"Standard Deviation: {round(np.std(sex))}\")\n",
    "print(f\"Minimum: {np.min(sex)}\")\n",
    "print(f\"Maximum: {np.max(sex)}\")"
   ]
  },
  {
   "cell_type": "code",
   "execution_count": 6,
   "id": "c71a6a8f",
   "metadata": {},
   "outputs": [
    {
     "name": "stdout",
     "output_type": "stream",
     "text": [
      "---Basic Descriptive Statistics on Cholesteral---\n",
      "Mean: 246\n",
      "Median: 240.0\n",
      "Standard Deviation: 52\n",
      "Minimum: 126.0\n",
      "Maximum: 564.0\n"
     ]
    }
   ],
   "source": [
    "#cholesteral\n",
    "print(\"---Basic Descriptive Statistics on Cholesteral---\")\n",
    "print(f\"Mean: {round(np.mean(chol))}\")\n",
    "print(f\"Median: {np.median(chol)}\")\n",
    "print(f\"Standard Deviation: {round(np.std(chol))}\")\n",
    "print(f\"Minimum: {np.min(chol)}\")\n",
    "print(f\"Maximum: {np.max(chol)}\")"
   ]
  },
  {
   "cell_type": "code",
   "execution_count": 7,
   "id": "7b3ae9b3",
   "metadata": {},
   "outputs": [
    {
     "name": "stdout",
     "output_type": "stream",
     "text": [
      "---Basic Descriptive Statistics on Resting Heartrate---\n",
      "Mean: 132\n",
      "Median: 130.0\n",
      "Standard Deviation: 18\n",
      "Minimum: 94.0\n",
      "Maximum: 200.0\n"
     ]
    }
   ],
   "source": [
    "#resting heartrate\n",
    "print(\"---Basic Descriptive Statistics on Resting Heartrate---\")\n",
    "print(f\"Mean: {round(np.mean(trestbps))}\")\n",
    "print(f\"Median: {np.median(trestbps)}\")\n",
    "print(f\"Standard Deviation: {round(np.std(trestbps))}\")\n",
    "print(f\"Minimum: {np.min(trestbps)}\")\n",
    "print(f\"Maximum: {np.max(trestbps)}\")"
   ]
  },
  {
   "cell_type": "code",
   "execution_count": 8,
   "id": "ecbf69fe",
   "metadata": {},
   "outputs": [
    {
     "name": "stdout",
     "output_type": "stream",
     "text": [
      "---Basic Descriptive Statistics on Maximum Heartrate Achieved---\n",
      "Mean: 150\n",
      "Median: 153.0\n",
      "Standard Deviation: 23\n",
      "Minimum: 71.0\n",
      "Maximum: 202.0\n"
     ]
    }
   ],
   "source": [
    "#maximum heartrate achieved\n",
    "print(\"---Basic Descriptive Statistics on Maximum Heartrate Achieved---\")\n",
    "print(f\"Mean: {round(np.mean(thalach))}\")\n",
    "print(f\"Median: {np.median(thalach)}\")\n",
    "print(f\"Standard Deviation: {round(np.std(thalach))}\")\n",
    "print(f\"Minimum: {np.min(thalach)}\")\n",
    "print(f\"Maximum: {np.max(thalach)}\")"
   ]
  },
  {
   "cell_type": "code",
   "execution_count": 9,
   "id": "05676a67",
   "metadata": {},
   "outputs": [
    {
     "name": "stdout",
     "output_type": "stream",
     "text": [
      "---Basic Descriptive Statistics on Target---\n",
      "Mean: 1\n",
      "Median: 1.0\n",
      "Standard Deviation: 0\n",
      "Minimum: 0.0\n",
      "Maximum: 1.0\n"
     ]
    }
   ],
   "source": [
    "#target\n",
    "print(\"---Basic Descriptive Statistics on Target---\")\n",
    "print(f\"Mean: {round(np.mean(target))}\")\n",
    "print(f\"Median: {np.median(target)}\")\n",
    "print(f\"Standard Deviation: {round(np.std(target))}\")\n",
    "print(f\"Minimum: {np.min(target)}\")\n",
    "print(f\"Maximum: {np.max(target)}\")"
   ]
  },
  {
   "cell_type": "markdown",
   "id": "3f0173df",
   "metadata": {},
   "source": [
    "# Filtering the Data"
   ]
  },
  {
   "cell_type": "code",
   "execution_count": 10,
   "id": "fe4f0dcc",
   "metadata": {},
   "outputs": [
    {
     "name": "stdout",
     "output_type": "stream",
     "text": [
      "Number of rows before filtering: 303\n"
     ]
    }
   ],
   "source": [
    "print(f\"Number of rows before filtering: {len(data)}\")"
   ]
  },
  {
   "cell_type": "code",
   "execution_count": 25,
   "id": "64ca73f4",
   "metadata": {},
   "outputs": [
    {
     "name": "stdout",
     "output_type": "stream",
     "text": [
      "Number of rows after filtering: 28\n"
     ]
    }
   ],
   "source": [
    "# Filtering data between older male patients with a high cholesteral\n",
    "filtered_data=data[(age>50) & (sex==0) & (chol>250) & (target==1)]\n",
    "print(f\"Number of rows after filtering: {len(filtered_data)}\")"
   ]
  },
  {
   "cell_type": "code",
   "execution_count": 26,
   "id": "7f6ec56d",
   "metadata": {},
   "outputs": [
    {
     "name": "stdout",
     "output_type": "stream",
     "text": [
      "Number of rows after filtering: 13\n"
     ]
    }
   ],
   "source": [
    "# Filtering data between older male patients with a high cholesteral\n",
    "filtered_data=data[(age>50) & (sex==0) & (chol>250) & (target==0)]\n",
    "print(f\"Number of rows after filtering: {len(filtered_data)}\")"
   ]
  },
  {
   "cell_type": "code",
   "execution_count": 27,
   "id": "1a3e7e7c",
   "metadata": {},
   "outputs": [
    {
     "name": "stdout",
     "output_type": "stream",
     "text": [
      "Number of rows after filtering: 12\n"
     ]
    }
   ],
   "source": [
    "# Filtering data between older female patients with a high cholesteral\n",
    "filtered_data=data[(age>50) & (sex==1) & (chol>250) & (target==1)]\n",
    "print(f\"Number of rows after filtering: {len(filtered_data)}\")"
   ]
  },
  {
   "cell_type": "code",
   "execution_count": 28,
   "id": "902e1bc0",
   "metadata": {},
   "outputs": [
    {
     "name": "stdout",
     "output_type": "stream",
     "text": [
      "Number of rows after filtering: 45\n"
     ]
    }
   ],
   "source": [
    "# Filtering data between older female patients with a high cholesteral\n",
    "filtered_data=data[(age>50) & (sex==1) & (chol>250) & (target==0)]\n",
    "print(f\"Number of rows after filtering: {len(filtered_data)}\")"
   ]
  },
  {
   "cell_type": "markdown",
   "id": "cb284add",
   "metadata": {},
   "source": [
    "# Number of Unique Categories"
   ]
  },
  {
   "cell_type": "code",
   "execution_count": 12,
   "id": "b14337a8",
   "metadata": {},
   "outputs": [
    {
     "name": "stdout",
     "output_type": "stream",
     "text": [
      "Unique age count: [29. 34. 35. 37. 38. 39. 40. 41. 42. 43. 44. 45. 46. 47. 48. 49. 50. 51.\n",
      " 52. 53. 54. 55. 56. 57. 58. 59. 60. 61. 62. 63. 64. 65. 66. 67. 68. 69.\n",
      " 70. 71. 74. 76. 77.]\n",
      "How many unique ages: 41\n"
     ]
    }
   ],
   "source": [
    "print(f\"Unique age count: {np.unique(age)}\")\n",
    "print(f\"How many unique ages: {len(np.unique(age))}\")"
   ]
  },
  {
   "cell_type": "code",
   "execution_count": 14,
   "id": "fdc45e22",
   "metadata": {},
   "outputs": [
    {
     "name": "stdout",
     "output_type": "stream",
     "text": [
      "Unique cholesteral count: [126. 131. 141. 149. 157. 160. 164. 166. 167. 168. 169. 172. 174. 175.\n",
      " 176. 177. 178. 180. 182. 183. 184. 185. 186. 187. 188. 192. 193. 195.\n",
      " 196. 197. 198. 199. 200. 201. 203. 204. 205. 206. 207. 208. 209. 210.\n",
      " 211. 212. 213. 214. 215. 216. 217. 218. 219. 220. 221. 222. 223. 224.\n",
      " 225. 226. 227. 228. 229. 230. 231. 232. 233. 234. 235. 236. 237. 239.\n",
      " 240. 241. 242. 243. 244. 245. 246. 247. 248. 249. 250. 252. 253. 254.\n",
      " 255. 256. 257. 258. 259. 260. 261. 262. 263. 264. 265. 266. 267. 268.\n",
      " 269. 270. 271. 273. 274. 275. 276. 277. 278. 281. 282. 283. 284. 286.\n",
      " 288. 289. 290. 293. 294. 295. 298. 299. 300. 302. 303. 304. 305. 306.\n",
      " 307. 308. 309. 311. 313. 315. 318. 319. 321. 322. 325. 326. 327. 330.\n",
      " 335. 340. 341. 342. 353. 354. 360. 394. 407. 409. 417. 564.]\n",
      "How many unique cholesteral: 152\n"
     ]
    }
   ],
   "source": [
    "print(f\"Unique cholesteral count: {np.unique(chol)}\")\n",
    "print(f\"How many unique cholesteral: {len(np.unique(chol))}\")"
   ]
  },
  {
   "cell_type": "code",
   "execution_count": 15,
   "id": "fcde8bd4",
   "metadata": {},
   "outputs": [
    {
     "name": "stdout",
     "output_type": "stream",
     "text": [
      "Unique resting heartrate count: [ 94. 100. 101. 102. 104. 105. 106. 108. 110. 112. 114. 115. 117. 118.\n",
      " 120. 122. 123. 124. 125. 126. 128. 129. 130. 132. 134. 135. 136. 138.\n",
      " 140. 142. 144. 145. 146. 148. 150. 152. 154. 155. 156. 160. 164. 165.\n",
      " 170. 172. 174. 178. 180. 192. 200.]\n",
      "How many unique resting heartrate: 49\n"
     ]
    }
   ],
   "source": [
    "print(f\"Unique resting heartrate count: {np.unique(trestbps)}\")\n",
    "print(f\"How many unique resting heartrate: {len(np.unique(trestbps))}\")"
   ]
  },
  {
   "cell_type": "code",
   "execution_count": 16,
   "id": "0f609c34",
   "metadata": {},
   "outputs": [
    {
     "name": "stdout",
     "output_type": "stream",
     "text": [
      "Unique maximum heartrate count: [ 71.  88.  90.  95.  96.  97.  99. 103. 105. 106. 108. 109. 111. 112.\n",
      " 113. 114. 115. 116. 117. 118. 120. 121. 122. 123. 124. 125. 126. 127.\n",
      " 128. 129. 130. 131. 132. 133. 134. 136. 137. 138. 139. 140. 141. 142.\n",
      " 143. 144. 145. 146. 147. 148. 149. 150. 151. 152. 153. 154. 155. 156.\n",
      " 157. 158. 159. 160. 161. 162. 163. 164. 165. 166. 167. 168. 169. 170.\n",
      " 171. 172. 173. 174. 175. 177. 178. 179. 180. 181. 182. 184. 185. 186.\n",
      " 187. 188. 190. 192. 194. 195. 202.]\n",
      "How many unique maximum heartrates: 91\n"
     ]
    }
   ],
   "source": [
    "print(f\"Unique maximum heartrate count: {np.unique(thalach)}\")\n",
    "print(f\"How many unique maximum heartrates: {len(np.unique(thalach))}\")"
   ]
  },
  {
   "cell_type": "markdown",
   "id": "4a5cc679",
   "metadata": {},
   "source": [
    "# Correlation"
   ]
  },
  {
   "cell_type": "code",
   "execution_count": 22,
   "id": "ad145dfb",
   "metadata": {},
   "outputs": [
    {
     "name": "stdout",
     "output_type": "stream",
     "text": [
      "Corr age and chol [[1.         0.21367796]\n",
      " [0.21367796 1.        ]]\n"
     ]
    }
   ],
   "source": [
    "corr_heart=np.corrcoef(age, chol, rowvar=False)\n",
    "print(f\"Corr age and chol {corr_heart}\")"
   ]
  },
  {
   "cell_type": "code",
   "execution_count": 23,
   "id": "839b8a31",
   "metadata": {},
   "outputs": [
    {
     "name": "stdout",
     "output_type": "stream",
     "text": [
      "Corr resting heartrate and chol [[1.         0.12317421]\n",
      " [0.12317421 1.        ]]\n"
     ]
    }
   ],
   "source": [
    "corr_heart=np.corrcoef(trestbps, chol, rowvar=False)\n",
    "print(f\"Corr resting heartrate and chol {corr_heart}\")"
   ]
  },
  {
   "cell_type": "code",
   "execution_count": 24,
   "id": "dfab6fc4",
   "metadata": {},
   "outputs": [
    {
     "name": "stdout",
     "output_type": "stream",
     "text": [
      "Corr maximum heartrate and chol [[ 1.         -0.00993984]\n",
      " [-0.00993984  1.        ]]\n"
     ]
    }
   ],
   "source": [
    "corr_heart=np.corrcoef(thalach, chol, rowvar=False)\n",
    "print(f\"Corr maximum heartrate and chol {corr_heart}\")"
   ]
  },
  {
   "cell_type": "markdown",
   "id": "811ec789",
   "metadata": {},
   "source": [
    "# Correlation Analysis\n",
    "- Age and Cholesteral Levels: 21% (weak positive)\n",
    "- Resting Heartrate and Cholesteral Levels: 12% (weak postive)\n",
    "- Maximum Heartrate and Cholesteral Levels: -0.9% (weak negative)"
   ]
  },
  {
   "cell_type": "markdown",
   "id": "d38baba9",
   "metadata": {},
   "source": [
    "# Summary"
   ]
  },
  {
   "cell_type": "markdown",
   "id": "4c493cfd",
   "metadata": {},
   "source": [
    "### In our hypothesis, we stated that the older a male patient is and the higher their cholesteral levels are, the more likely that a patients is to get heart disease. After going through and testing our data, we discovered that this was not the case and there is actually a completely different correlation between people getting heart disease. However, after we analyzed our data, we discovered more of a correlation between the male patients that are older and have a higher cholesteral levels having heart disease, compared to the older female patients with higher cholesteral levels."
   ]
  },
  {
   "cell_type": "code",
   "execution_count": null,
   "id": "dea731d2",
   "metadata": {},
   "outputs": [],
   "source": []
  }
 ],
 "metadata": {
  "kernelspec": {
   "display_name": "Python 3 (ipykernel)",
   "language": "python",
   "name": "python3"
  },
  "language_info": {
   "codemirror_mode": {
    "name": "ipython",
    "version": 3
   },
   "file_extension": ".py",
   "mimetype": "text/x-python",
   "name": "python",
   "nbconvert_exporter": "python",
   "pygments_lexer": "ipython3",
   "version": "3.11.4"
  }
 },
 "nbformat": 4,
 "nbformat_minor": 5
}
